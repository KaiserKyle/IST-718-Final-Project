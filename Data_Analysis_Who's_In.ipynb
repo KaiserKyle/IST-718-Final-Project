{
  "nbformat": 4,
  "nbformat_minor": 0,
  "metadata": {
    "colab": {
      "name": "Data Analysis - Who's In.ipynb",
      "version": "0.3.2",
      "provenance": [],
      "collapsed_sections": [],
      "include_colab_link": true
    },
    "language_info": {
      "codemirror_mode": {
        "name": "ipython",
        "version": 3
      },
      "file_extension": ".py",
      "mimetype": "text/x-python",
      "name": "python",
      "nbconvert_exporter": "python",
      "pygments_lexer": "ipython3",
      "version": "3.6.7"
    },
    "kernelspec": {
      "display_name": "Python 3",
      "language": "python",
      "name": "python3"
    }
  },
  "cells": [
    {
      "cell_type": "markdown",
      "metadata": {
        "id": "view-in-github",
        "colab_type": "text"
      },
      "source": [
        "<a href=\"https://colab.research.google.com/github/KaiserKyle/IST-718-Final-Project/blob/master/Data_Analysis_Who's_In.ipynb\" target=\"_parent\"><img src=\"https://colab.research.google.com/assets/colab-badge.svg\" alt=\"Open In Colab\"/></a>"
      ]
    },
    {
      "cell_type": "code",
      "metadata": {
        "id": "Z1y3HCp00R1J",
        "colab_type": "code",
        "colab": {}
      },
      "source": [
        "import pandas as pd\n",
        "import matplotlib.pyplot as plt  # 2D plotting\n",
        "from matplotlib.cbook import boxplot_stats\n",
        "import seaborn as sns "
      ],
      "execution_count": 0,
      "outputs": []
    },
    {
      "cell_type": "code",
      "metadata": {
        "id": "4m0ThMeK0R1P",
        "colab_type": "code",
        "colab": {},
        "outputId": "ca1933ed-498b-409a-b820-e09f6f5fcca0"
      },
      "source": [
        "data = pd.read_csv('agg_team_stats.csv' ,low_memory=False)\n",
        "data = data.drop(['name', 'market', 'alias','conf_id','division_alias','conf_name'], axis=1)\n",
        "data.fillna(0, inplace=True)\n",
        "data.head()"
      ],
      "execution_count": 0,
      "outputs": [
        {
          "output_type": "execute_result",
          "data": {
            "text/html": [
              "<div>\n",
              "<style scoped>\n",
              "    .dataframe tbody tr th:only-of-type {\n",
              "        vertical-align: middle;\n",
              "    }\n",
              "\n",
              "    .dataframe tbody tr th {\n",
              "        vertical-align: top;\n",
              "    }\n",
              "\n",
              "    .dataframe thead th {\n",
              "        text-align: right;\n",
              "    }\n",
              "</style>\n",
              "<table border=\"1\" class=\"dataframe\">\n",
              "  <thead>\n",
              "    <tr style=\"text-align: right;\">\n",
              "      <th></th>\n",
              "      <th>season</th>\n",
              "      <th>team_id</th>\n",
              "      <th>conf_alias</th>\n",
              "      <th>points_game</th>\n",
              "      <th>field_goals_made</th>\n",
              "      <th>field_goals_att</th>\n",
              "      <th>field_goals_pct</th>\n",
              "      <th>three_points_made</th>\n",
              "      <th>three_points_att</th>\n",
              "      <th>three_points_pct</th>\n",
              "      <th>...</th>\n",
              "      <th>team_rebounds</th>\n",
              "      <th>flagrant_fouls</th>\n",
              "      <th>player_tech_fouls</th>\n",
              "      <th>team_tech_fouls</th>\n",
              "      <th>coach_tech_fouls</th>\n",
              "      <th>NCAA</th>\n",
              "      <th>Conference</th>\n",
              "      <th>Win</th>\n",
              "      <th>Loss</th>\n",
              "      <th>Conference_Champ</th>\n",
              "    </tr>\n",
              "  </thead>\n",
              "  <tbody>\n",
              "    <tr>\n",
              "      <th>0</th>\n",
              "      <td>2013</td>\n",
              "      <td>8ddbfca9-a931-4908-aa31-9fcd17624b5f</td>\n",
              "      <td>CUSA</td>\n",
              "      <td>71.451613</td>\n",
              "      <td>22.25</td>\n",
              "      <td>60.500000</td>\n",
              "      <td>36.750000</td>\n",
              "      <td>5.500000</td>\n",
              "      <td>16.000000</td>\n",
              "      <td>34.875000</td>\n",
              "      <td>...</td>\n",
              "      <td>3.000000</td>\n",
              "      <td>0.000000</td>\n",
              "      <td>0.75</td>\n",
              "      <td>0.0</td>\n",
              "      <td>0.0</td>\n",
              "      <td>False</td>\n",
              "      <td>True</td>\n",
              "      <td>12.0</td>\n",
              "      <td>19.0</td>\n",
              "      <td>False</td>\n",
              "    </tr>\n",
              "    <tr>\n",
              "      <th>1</th>\n",
              "      <td>2013</td>\n",
              "      <td>11a617d5-af03-4cce-bc8a-51114d9e41fe</td>\n",
              "      <td>BIGWEST</td>\n",
              "      <td>69.741935</td>\n",
              "      <td>23.20</td>\n",
              "      <td>59.200000</td>\n",
              "      <td>38.830000</td>\n",
              "      <td>5.400000</td>\n",
              "      <td>19.600000</td>\n",
              "      <td>27.410000</td>\n",
              "      <td>...</td>\n",
              "      <td>3.900000</td>\n",
              "      <td>0.000000</td>\n",
              "      <td>0.00</td>\n",
              "      <td>0.0</td>\n",
              "      <td>0.0</td>\n",
              "      <td>False</td>\n",
              "      <td>True</td>\n",
              "      <td>11.0</td>\n",
              "      <td>20.0</td>\n",
              "      <td>False</td>\n",
              "    </tr>\n",
              "    <tr>\n",
              "      <th>2</th>\n",
              "      <td>2013</td>\n",
              "      <td>d8217105-e9c2-4267-9538-3aaeea1ae167</td>\n",
              "      <td>MVC</td>\n",
              "      <td>69.393939</td>\n",
              "      <td>22.00</td>\n",
              "      <td>53.333333</td>\n",
              "      <td>41.650000</td>\n",
              "      <td>4.666667</td>\n",
              "      <td>13.333333</td>\n",
              "      <td>35.916667</td>\n",
              "      <td>...</td>\n",
              "      <td>4.800000</td>\n",
              "      <td>0.166667</td>\n",
              "      <td>0.00</td>\n",
              "      <td>0.0</td>\n",
              "      <td>0.0</td>\n",
              "      <td>False</td>\n",
              "      <td>True</td>\n",
              "      <td>10.0</td>\n",
              "      <td>23.0</td>\n",
              "      <td>False</td>\n",
              "    </tr>\n",
              "    <tr>\n",
              "      <th>3</th>\n",
              "      <td>2013</td>\n",
              "      <td>5016fe1a-9571-4d10-bf5b-b9c1b496bd57</td>\n",
              "      <td>WAC</td>\n",
              "      <td>77.000000</td>\n",
              "      <td>22.00</td>\n",
              "      <td>56.666667</td>\n",
              "      <td>38.333333</td>\n",
              "      <td>4.333333</td>\n",
              "      <td>14.666667</td>\n",
              "      <td>28.266667</td>\n",
              "      <td>...</td>\n",
              "      <td>3.666667</td>\n",
              "      <td>0.333333</td>\n",
              "      <td>0.00</td>\n",
              "      <td>0.0</td>\n",
              "      <td>0.0</td>\n",
              "      <td>True</td>\n",
              "      <td>True</td>\n",
              "      <td>10.0</td>\n",
              "      <td>26.0</td>\n",
              "      <td>True</td>\n",
              "    </tr>\n",
              "    <tr>\n",
              "      <th>4</th>\n",
              "      <td>2013</td>\n",
              "      <td>53aaac6a-796e-41a6-a04e-6ce74c5717f8</td>\n",
              "      <td>MEAC</td>\n",
              "      <td>65.281250</td>\n",
              "      <td>16.00</td>\n",
              "      <td>48.500000</td>\n",
              "      <td>32.750000</td>\n",
              "      <td>7.000000</td>\n",
              "      <td>19.500000</td>\n",
              "      <td>34.500000</td>\n",
              "      <td>...</td>\n",
              "      <td>4.500000</td>\n",
              "      <td>0.000000</td>\n",
              "      <td>0.00</td>\n",
              "      <td>0.0</td>\n",
              "      <td>0.0</td>\n",
              "      <td>False</td>\n",
              "      <td>True</td>\n",
              "      <td>7.0</td>\n",
              "      <td>25.0</td>\n",
              "      <td>False</td>\n",
              "    </tr>\n",
              "  </tbody>\n",
              "</table>\n",
              "<p>5 rows × 43 columns</p>\n",
              "</div>"
            ],
            "text/plain": [
              "   season                               team_id conf_alias  points_game  \\\n",
              "0    2013  8ddbfca9-a931-4908-aa31-9fcd17624b5f       CUSA    71.451613   \n",
              "1    2013  11a617d5-af03-4cce-bc8a-51114d9e41fe    BIGWEST    69.741935   \n",
              "2    2013  d8217105-e9c2-4267-9538-3aaeea1ae167        MVC    69.393939   \n",
              "3    2013  5016fe1a-9571-4d10-bf5b-b9c1b496bd57        WAC    77.000000   \n",
              "4    2013  53aaac6a-796e-41a6-a04e-6ce74c5717f8       MEAC    65.281250   \n",
              "\n",
              "   field_goals_made  field_goals_att  field_goals_pct  three_points_made  \\\n",
              "0             22.25        60.500000        36.750000           5.500000   \n",
              "1             23.20        59.200000        38.830000           5.400000   \n",
              "2             22.00        53.333333        41.650000           4.666667   \n",
              "3             22.00        56.666667        38.333333           4.333333   \n",
              "4             16.00        48.500000        32.750000           7.000000   \n",
              "\n",
              "   three_points_att  three_points_pct  ...  team_rebounds  flagrant_fouls  \\\n",
              "0         16.000000         34.875000  ...       3.000000        0.000000   \n",
              "1         19.600000         27.410000  ...       3.900000        0.000000   \n",
              "2         13.333333         35.916667  ...       4.800000        0.166667   \n",
              "3         14.666667         28.266667  ...       3.666667        0.333333   \n",
              "4         19.500000         34.500000  ...       4.500000        0.000000   \n",
              "\n",
              "   player_tech_fouls  team_tech_fouls  coach_tech_fouls   NCAA  Conference  \\\n",
              "0               0.75              0.0               0.0  False        True   \n",
              "1               0.00              0.0               0.0  False        True   \n",
              "2               0.00              0.0               0.0  False        True   \n",
              "3               0.00              0.0               0.0   True        True   \n",
              "4               0.00              0.0               0.0  False        True   \n",
              "\n",
              "    Win  Loss  Conference_Champ  \n",
              "0  12.0  19.0             False  \n",
              "1  11.0  20.0             False  \n",
              "2  10.0  23.0             False  \n",
              "3  10.0  26.0              True  \n",
              "4   7.0  25.0             False  \n",
              "\n",
              "[5 rows x 43 columns]"
            ]
          },
          "metadata": {
            "tags": []
          },
          "execution_count": 75
        }
      ]
    },
    {
      "cell_type": "code",
      "metadata": {
        "id": "-FCavWnG0R1X",
        "colab_type": "code",
        "colab": {},
        "outputId": "3b9a7258-7807-4a8c-d93c-67684f6a644d"
      },
      "source": [
        "plt.rcParams['figure.figsize'] = [6, 6]\n",
        "g = sns.boxplot(x=\"NCAA\", y=\"points_game\", data=data, color = \"lightblue\")\n",
        "g.set(xlabel = \"Is NCAA Tournament?\", ylabel = \"PPG\")\n",
        "g.set_title(\"Points Per Game\")\n",
        "\n",
        "plt.show()"
      ],
      "execution_count": 0,
      "outputs": [
        {
          "output_type": "display_data",
          "data": {
            "image/png": "[encoded data removed]",
            "text/plain": [
              "<Figure size 432x432 with 1 Axes>"
            ]
          },
          "metadata": {
            "tags": [],
            "needs_background": "light"
          }
        }
      ]
    },
    {
      "cell_type": "code",
      "metadata": {
        "id": "7L76nP6t0R1d",
        "colab_type": "code",
        "colab": {},
        "outputId": "333264ba-21e7-41a7-a2c7-a57512a3145f"
      },
      "source": [
        "at_large_data = data[data.Conference_Champ == False]\n",
        "\n",
        "plt.rcParams['figure.figsize'] = [4, 12]\n",
        "corr = at_large_data.corr()\n",
        "corr = corr.loc[['NCAA']].transpose().sort_values(by = 'NCAA')\n",
        "g = sns.heatmap(corr, \n",
        "            yticklabels=corr.index.values,\n",
        "            annot = True,\n",
        "            center = 0,\n",
        "            vmin = -1,\n",
        "            vmax = 1,\n",
        "            cmap = 'coolwarm')\n",
        "\n",
        "plt.title(\"Correlation with NCAA Berth For At-Large Teams\")\n",
        "\n",
        "plt.show()"
      ],
      "execution_count": 0,
      "outputs": [
        {
          "output_type": "display_data",
          "data": {
            "image/png": "[encoded data removed]",
            "text/plain": [
              "<Figure size 288x864 with 2 Axes>"
            ]
          },
          "metadata": {
            "tags": [],
            "needs_background": "light"
          }
        }
      ]
    },
    {
      "cell_type": "code",
      "metadata": {
        "id": "npKgLOeZ0R1k",
        "colab_type": "code",
        "colab": {},
        "outputId": "0460d4a5-6be2-4cd7-c319-ffdb213582da"
      },
      "source": [
        "from sklearn import preprocessing\n",
        "#enc = preprocessing.OneHotEncoder().fit(at_large_data['conf_name'])\n",
        "\n",
        "train_data = at_large_data[(at_large_data['season'] == 2013) | (at_large_data['season'] == 2014) | (at_large_data['season'] == 2015)]\n",
        "test_data = at_large_data[(at_large_data['season'] == 2016) | (at_large_data['season'] == 2017)]\n",
        "\n",
        "y_test = test_data[['NCAA', 'season', 'team_id']]\n",
        "y_train = train_data[['NCAA', 'season', 'team_id']]\n",
        "X_test = test_data.drop(['NCAA', 'season', 'team_id', 'conf_alias'], axis=1)\n",
        "X_train = train_data.drop(['NCAA', 'season', 'team_id', 'conf_alias'], axis=1)\n",
        "\n",
        "X_train.head()"
      ],
      "execution_count": 0,
      "outputs": [
        {
          "output_type": "execute_result",
          "data": {
            "text/html": [
              "<div>\n",
              "<style scoped>\n",
              "    .dataframe tbody tr th:only-of-type {\n",
              "        vertical-align: middle;\n",
              "    }\n",
              "\n",
              "    .dataframe tbody tr th {\n",
              "        vertical-align: top;\n",
              "    }\n",
              "\n",
              "    .dataframe thead th {\n",
              "        text-align: right;\n",
              "    }\n",
              "</style>\n",
              "<table border=\"1\" class=\"dataframe\">\n",
              "  <thead>\n",
              "    <tr style=\"text-align: right;\">\n",
              "      <th></th>\n",
              "      <th>points_game</th>\n",
              "      <th>field_goals_made</th>\n",
              "      <th>field_goals_att</th>\n",
              "      <th>field_goals_pct</th>\n",
              "      <th>three_points_made</th>\n",
              "      <th>three_points_att</th>\n",
              "      <th>three_points_pct</th>\n",
              "      <th>two_points_made</th>\n",
              "      <th>two_points_att</th>\n",
              "      <th>two_points_pct</th>\n",
              "      <th>...</th>\n",
              "      <th>points_off_turnovers</th>\n",
              "      <th>team_rebounds</th>\n",
              "      <th>flagrant_fouls</th>\n",
              "      <th>player_tech_fouls</th>\n",
              "      <th>team_tech_fouls</th>\n",
              "      <th>coach_tech_fouls</th>\n",
              "      <th>Conference</th>\n",
              "      <th>Win</th>\n",
              "      <th>Loss</th>\n",
              "      <th>Conference_Champ</th>\n",
              "    </tr>\n",
              "  </thead>\n",
              "  <tbody>\n",
              "    <tr>\n",
              "      <th>0</th>\n",
              "      <td>71.451613</td>\n",
              "      <td>22.250000</td>\n",
              "      <td>60.500000</td>\n",
              "      <td>36.750000</td>\n",
              "      <td>5.500000</td>\n",
              "      <td>16.000000</td>\n",
              "      <td>34.875000</td>\n",
              "      <td>16.750000</td>\n",
              "      <td>44.500000</td>\n",
              "      <td>37.650000</td>\n",
              "      <td>...</td>\n",
              "      <td>10.750000</td>\n",
              "      <td>3.0</td>\n",
              "      <td>0.000000</td>\n",
              "      <td>0.750000</td>\n",
              "      <td>0.0</td>\n",
              "      <td>0.0</td>\n",
              "      <td>True</td>\n",
              "      <td>12.0</td>\n",
              "      <td>19.0</td>\n",
              "      <td>False</td>\n",
              "    </tr>\n",
              "    <tr>\n",
              "      <th>1</th>\n",
              "      <td>69.741935</td>\n",
              "      <td>23.200000</td>\n",
              "      <td>59.200000</td>\n",
              "      <td>38.830000</td>\n",
              "      <td>5.400000</td>\n",
              "      <td>19.600000</td>\n",
              "      <td>27.410000</td>\n",
              "      <td>17.800000</td>\n",
              "      <td>39.600000</td>\n",
              "      <td>44.050000</td>\n",
              "      <td>...</td>\n",
              "      <td>10.900000</td>\n",
              "      <td>3.9</td>\n",
              "      <td>0.000000</td>\n",
              "      <td>0.000000</td>\n",
              "      <td>0.0</td>\n",
              "      <td>0.0</td>\n",
              "      <td>True</td>\n",
              "      <td>11.0</td>\n",
              "      <td>20.0</td>\n",
              "      <td>False</td>\n",
              "    </tr>\n",
              "    <tr>\n",
              "      <th>2</th>\n",
              "      <td>69.393939</td>\n",
              "      <td>22.000000</td>\n",
              "      <td>53.333333</td>\n",
              "      <td>41.650000</td>\n",
              "      <td>4.666667</td>\n",
              "      <td>13.333333</td>\n",
              "      <td>35.916667</td>\n",
              "      <td>17.333333</td>\n",
              "      <td>40.000000</td>\n",
              "      <td>43.733333</td>\n",
              "      <td>...</td>\n",
              "      <td>7.666667</td>\n",
              "      <td>4.8</td>\n",
              "      <td>0.166667</td>\n",
              "      <td>0.000000</td>\n",
              "      <td>0.0</td>\n",
              "      <td>0.0</td>\n",
              "      <td>True</td>\n",
              "      <td>10.0</td>\n",
              "      <td>23.0</td>\n",
              "      <td>False</td>\n",
              "    </tr>\n",
              "    <tr>\n",
              "      <th>4</th>\n",
              "      <td>65.281250</td>\n",
              "      <td>16.000000</td>\n",
              "      <td>48.500000</td>\n",
              "      <td>32.750000</td>\n",
              "      <td>7.000000</td>\n",
              "      <td>19.500000</td>\n",
              "      <td>34.500000</td>\n",
              "      <td>9.000000</td>\n",
              "      <td>29.000000</td>\n",
              "      <td>31.200000</td>\n",
              "      <td>...</td>\n",
              "      <td>3.500000</td>\n",
              "      <td>4.5</td>\n",
              "      <td>0.000000</td>\n",
              "      <td>0.000000</td>\n",
              "      <td>0.0</td>\n",
              "      <td>0.0</td>\n",
              "      <td>True</td>\n",
              "      <td>7.0</td>\n",
              "      <td>25.0</td>\n",
              "      <td>False</td>\n",
              "    </tr>\n",
              "    <tr>\n",
              "      <th>5</th>\n",
              "      <td>64.676471</td>\n",
              "      <td>22.764706</td>\n",
              "      <td>53.558824</td>\n",
              "      <td>42.638235</td>\n",
              "      <td>5.794118</td>\n",
              "      <td>18.264706</td>\n",
              "      <td>31.802941</td>\n",
              "      <td>16.970588</td>\n",
              "      <td>35.294118</td>\n",
              "      <td>48.376471</td>\n",
              "      <td>...</td>\n",
              "      <td>13.147059</td>\n",
              "      <td>3.0</td>\n",
              "      <td>0.029412</td>\n",
              "      <td>0.117647</td>\n",
              "      <td>0.0</td>\n",
              "      <td>0.0</td>\n",
              "      <td>True</td>\n",
              "      <td>7.0</td>\n",
              "      <td>27.0</td>\n",
              "      <td>False</td>\n",
              "    </tr>\n",
              "  </tbody>\n",
              "</table>\n",
              "<p>5 rows × 39 columns</p>\n",
              "</div>"
            ],
            "text/plain": [
              "   points_game  field_goals_made  field_goals_att  field_goals_pct  \\\n",
              "0    71.451613         22.250000        60.500000        36.750000   \n",
              "1    69.741935         23.200000        59.200000        38.830000   \n",
              "2    69.393939         22.000000        53.333333        41.650000   \n",
              "4    65.281250         16.000000        48.500000        32.750000   \n",
              "5    64.676471         22.764706        53.558824        42.638235   \n",
              "\n",
              "   three_points_made  three_points_att  three_points_pct  two_points_made  \\\n",
              "0           5.500000         16.000000         34.875000        16.750000   \n",
              "1           5.400000         19.600000         27.410000        17.800000   \n",
              "2           4.666667         13.333333         35.916667        17.333333   \n",
              "4           7.000000         19.500000         34.500000         9.000000   \n",
              "5           5.794118         18.264706         31.802941        16.970588   \n",
              "\n",
              "   two_points_att  two_points_pct  ...  points_off_turnovers  team_rebounds  \\\n",
              "0       44.500000       37.650000  ...             10.750000            3.0   \n",
              "1       39.600000       44.050000  ...             10.900000            3.9   \n",
              "2       40.000000       43.733333  ...              7.666667            4.8   \n",
              "4       29.000000       31.200000  ...              3.500000            4.5   \n",
              "5       35.294118       48.376471  ...             13.147059            3.0   \n",
              "\n",
              "   flagrant_fouls  player_tech_fouls  team_tech_fouls  coach_tech_fouls  \\\n",
              "0        0.000000           0.750000              0.0               0.0   \n",
              "1        0.000000           0.000000              0.0               0.0   \n",
              "2        0.166667           0.000000              0.0               0.0   \n",
              "4        0.000000           0.000000              0.0               0.0   \n",
              "5        0.029412           0.117647              0.0               0.0   \n",
              "\n",
              "   Conference   Win  Loss  Conference_Champ  \n",
              "0        True  12.0  19.0             False  \n",
              "1        True  11.0  20.0             False  \n",
              "2        True  10.0  23.0             False  \n",
              "4        True   7.0  25.0             False  \n",
              "5        True   7.0  27.0             False  \n",
              "\n",
              "[5 rows x 39 columns]"
            ]
          },
          "metadata": {
            "tags": []
          },
          "execution_count": 105
        }
      ]
    },
    {
      "cell_type": "code",
      "metadata": {
        "id": "-nLn7sLf0R1p",
        "colab_type": "code",
        "colab": {},
        "outputId": "5eee59b2-9791-45f0-e50b-0b198fec70e9"
      },
      "source": [
        "from sklearn import linear_model\n",
        "clf = linear_model.SGDClassifier(max_iter=1000)\n",
        "clf.fit(X_train, y_train.NCAA)\n",
        "clf.score(X_test, y_test.NCAA)"
      ],
      "execution_count": 0,
      "outputs": [
        {
          "output_type": "stream",
          "text": [
            "D:\\Anaconda3\\lib\\site-packages\\sklearn\\linear_model\\stochastic_gradient.py:183: FutureWarning: max_iter and tol parameters have been added in SGDClassifier in 0.19. If max_iter is set but tol is left unset, the default value for tol in 0.19 and 0.20 will be None (which is equivalent to -infinity, so it has no effect) but will change in 0.21 to 1e-3. Specify tol to silence this warning.\n",
            "  FutureWarning)\n"
          ],
          "name": "stderr"
        },
        {
          "output_type": "execute_result",
          "data": {
            "text/plain": [
              "0.764797507788162"
            ]
          },
          "metadata": {
            "tags": []
          },
          "execution_count": 107
        }
      ]
    },
    {
      "cell_type": "code",
      "metadata": {
        "id": "hehicNW30R1s",
        "colab_type": "code",
        "colab": {},
        "outputId": "43f3e562-6e0b-4a96-bcf3-34382a8a205d"
      },
      "source": [
        "from sklearn.svm import SVC\n",
        "clf = SVC()\n",
        "clf.fit(X_train, y_train.NCAA)\n",
        "clf.score(X_test, y_test.NCAA)"
      ],
      "execution_count": 0,
      "outputs": [
        {
          "output_type": "stream",
          "text": [
            "D:\\Anaconda3\\lib\\site-packages\\sklearn\\svm\\base.py:196: FutureWarning: The default value of gamma will change from 'auto' to 'scale' in version 0.22 to account better for unscaled features. Set gamma explicitly to 'auto' or 'scale' to avoid this warning.\n",
            "  \"avoid this warning.\", FutureWarning)\n"
          ],
          "name": "stderr"
        },
        {
          "output_type": "execute_result",
          "data": {
            "text/plain": [
              "0.67601246105919"
            ]
          },
          "metadata": {
            "tags": []
          },
          "execution_count": 108
        }
      ]
    },
    {
      "cell_type": "code",
      "metadata": {
        "id": "F1S-lATX0R1x",
        "colab_type": "code",
        "colab": {},
        "outputId": "9111855b-5f66-434d-c7ce-9f8080e25088"
      },
      "source": [
        "from sklearn.neighbors import KNeighborsClassifier\n",
        "neigh = KNeighborsClassifier(n_neighbors=3)\n",
        "neigh.fit(X_train, y_train.NCAA)\n",
        "neigh.score(X_test, y_test.NCAA)"
      ],
      "execution_count": 0,
      "outputs": [
        {
          "output_type": "execute_result",
          "data": {
            "text/plain": [
              "0.6479750778816199"
            ]
          },
          "metadata": {
            "tags": []
          },
          "execution_count": 109
        }
      ]
    },
    {
      "cell_type": "code",
      "metadata": {
        "id": "Lpak4mI_0R10",
        "colab_type": "code",
        "colab": {},
        "outputId": "a75936e7-4479-4d97-9e8e-84bcc8d1a389"
      },
      "source": [
        "from sklearn.ensemble import RandomForestClassifier \n",
        "\n",
        "forest = RandomForestClassifier(n_estimators = 500)\n",
        "forest.fit(X_train, y_train.NCAA)\n",
        "print('Random Forest Score: ', forest.score(X_test, y_test.NCAA))\n",
        "\n",
        "predictions = pd.DataFrame(forest.predict_proba(X_test))\n",
        "\n",
        "predictions['Actual'] = y_test.NCAA.values\n",
        "predictions['Season'] = y_test.season.values\n",
        "predictions.sort_values(by = 1, ascending = False, inplace = True)\n",
        "\n",
        "pred_2016 = predictions[predictions['Season'] == 2016]\n",
        "pred_2017 = predictions[predictions['Season'] == 2017]\n",
        "\n",
        "in_2016 = pred_2016.head(36)\n",
        "in_2017 = pred_2017.head(36)\n",
        "\n",
        "print(\"2016 Top 36 at-large bid accuracy: \", in_2016.Actual.mean())\n",
        "print(\"2017 Top 36 at-large bid accuracy: \", in_2017.Actual.mean())"
      ],
      "execution_count": 0,
      "outputs": [
        {
          "output_type": "stream",
          "text": [
            "Random Forest Score:  0.7866043613707165\n",
            "2016 Top 36 at-large bid accuracy:  0.8888888888888888\n",
            "2017 Top 36 at-large bid accuracy:  0.9166666666666666\n"
          ],
          "name": "stdout"
        }
      ]
    },
    {
      "cell_type": "code",
      "metadata": {
        "id": "RSLQHAyW0R15",
        "colab_type": "code",
        "colab": {}
      },
      "source": [
        ""
      ],
      "execution_count": 0,
      "outputs": []
    },
    {
      "cell_type": "code",
      "metadata": {
        "id": "fbw-LMBa0R18",
        "colab_type": "code",
        "colab": {}
      },
      "source": [
        ""
      ],
      "execution_count": 0,
      "outputs": []
    }
  ]
}